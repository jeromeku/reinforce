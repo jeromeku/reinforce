{
 "cells": [
  {
   "cell_type": "code",
   "execution_count": 9,
   "metadata": {
    "collapsed": true
   },
   "outputs": [],
   "source": [
    "import random\n",
    "import itertools\n",
    "import numpy as np\n",
    "from collections import namedtuple\n",
    "\n",
    "import gym\n",
    "import tensorflow\n",
    "\n",
    "from mcts import Node, ucb\n"
   ]
  },
  {
   "cell_type": "code",
   "execution_count": 51,
   "metadata": {
    "collapsed": false
   },
   "outputs": [],
   "source": [
    "class TestEnv(object):\n",
    "    def __init__(self, name):\n",
    "        self.env = gym.make(name)\n",
    "        self.state = self.env.reset()\n",
    "        self.trajectory = []\n",
    "        self.history = []\n",
    "        self.is_terminal = False\n",
    "        \n",
    "    def reset(self):\n",
    "        self.state = self.env.reset()\n",
    "        self.history = []\n",
    "           \n",
    "    def simulate(self):\n",
    "        '''Simulate path starting from current state\n",
    "        '''\n",
    "        path = []\n",
    "        while not self.is_terminal:\n",
    "            action = self.sample_action()\n",
    "            next_state, reward, terminal, info = self.env.step(action)\n",
    "            path.append((self.state, action, reward))\n",
    "            self.state = next_state\n",
    "            self.is_terminal = terminal\n",
    "            \n",
    "        return path\n",
    "    \n",
    "    def rollout(self, num_plays=1):\n",
    "        '''Simulate num_play trajectories\n",
    "        '''\n",
    "        if self.is_terminal:\n",
    "            self.clear()\n",
    "            \n",
    "        for i in range(num_plays):\n",
    "            trajectory = self.simulate()\n",
    "            self.history.append(trajectory)\n",
    "            self.clear()\n",
    "\n",
    "    def _unpack(self, trajectory):\n",
    "        s, a, r = zip(*trajectory)\n",
    "        return s, a, r\n",
    "    \n",
    "    def get_trajectories(self):\n",
    "        '''Returns list of trajectories, where each trajectory is a list of states, actions, and rewards\n",
    "        '''\n",
    "        if self.history:\n",
    "            return [self._unpack(trajectory) for trajectory in self.history]\n",
    "        else:\n",
    "            print \"No trajectories\"\n",
    "            return None\n",
    "        \n",
    "    def sample_action(self, state=None, policy=None, n=1):\n",
    "        if not policy:\n",
    "            return np.random.choice(self.valid_actions, size=n)\n",
    "            \n",
    "    def clear(self):\n",
    "        self.state = self.env.reset()\n",
    "        self.is_terminal = False\n",
    "        \n",
    "    def clear_all(self):\n",
    "        self.clear()\n",
    "        self.history = []\n",
    "    \n",
    "    @property\n",
    "    def valid_actions(self):\n",
    "        raise NotImplementedError\n",
    "\n",
    "        \n",
    "class PongEnv(TestEnv):\n",
    "    def __init__(self):\n",
    "        super(PongEnv, self).__init__(\"Pong-v0\")\n",
    "        \n",
    "    @property\n",
    "    def valid_actions(self):\n",
    "        '''Valid actions limited to 2 (up) and 3 (down)\n",
    "        '''\n",
    "        return [2,3]\n",
    "\n",
    "def take(it, n):\n",
    "    return list(itertools.islice(it, n))\n",
    "\n",
    "def partition_points(r):\n",
    "    '''\n",
    "    Partition episode (single Pong game) into sequences of points\n",
    "    \n",
    "    First player to reach 21 points wins game.  Partitioning episodes based on point sequences necessary\n",
    "    for proper discounting of rewards (+1 for self point, -1 for opponent point)\n",
    "    '''\n",
    "    \n",
    "    #Get indices of non-zero elements, add 1 for proper slicing\n",
    "    idx = [0] + (np.nonzero(r)[0] + 1).tolist()\n",
    "    slice_sizes = np.diff(idx)\n",
    "    r_iter = iter(r)\n",
    "    seqs = []\n",
    "\n",
    "    for sz in slice_sizes:\n",
    "        seqs.append(take(r_iter,sz))  \n",
    "    \n",
    "    return seqs\n",
    "    \n",
    "class Node(object):\n",
    "    def __init__(self, env, parent=None, action=None, state=None):\n",
    "        self.env = env\n",
    "        self.parent = parent\n",
    "        self.action = action\n",
    "        self.state = state\n",
    "        self.children = []\n",
    "        self.explored_children = []\n",
    "        self.value = 0.\n",
    "        self.visits = 0.\n",
    "\n",
    "    def expand(self):\n",
    "        for action in self.env.valid_actions:\n",
    "            self.children.append(Node(env=self.env, parent=self, action=action))\n",
    "\n",
    "    @property\n",
    "    def has_unvisited(self):\n",
    "        return len(self.children) > 0 and len(self.explored_children) != len(self.children)\n",
    "    \n",
    "fields = [\"state\", \"action\", \"parent\", \"children\", \"explored_children\", \"visits\", \"value\"]\n"
   ]
  },
  {
   "cell_type": "code",
   "execution_count": 52,
   "metadata": {
    "collapsed": false
   },
   "outputs": [
    {
     "name": "stderr",
     "output_type": "stream",
     "text": [
      "[2016-09-13 19:30:49,011] Making new env: Pong-v0\n"
     ]
    }
   ],
   "source": [
    "pong = PongEnv()"
   ]
  },
  {
   "cell_type": "code",
   "execution_count": 53,
   "metadata": {
    "collapsed": false
   },
   "outputs": [
    {
     "data": {
      "text/plain": [
       "False"
      ]
     },
     "execution_count": 53,
     "metadata": {},
     "output_type": "execute_result"
    }
   ],
   "source": [
    "node = Node(pong)\n",
    "node.has_unvisited"
   ]
  },
  {
   "cell_type": "code",
   "execution_count": 54,
   "metadata": {
    "collapsed": false
   },
   "outputs": [],
   "source": [
    "node.expand()"
   ]
  },
  {
   "cell_type": "code",
   "execution_count": 55,
   "metadata": {
    "collapsed": false
   },
   "outputs": [
    {
     "data": {
      "text/plain": [
       "True"
      ]
     },
     "execution_count": 55,
     "metadata": {},
     "output_type": "execute_result"
    }
   ],
   "source": [
    "node.has_unvisited"
   ]
  },
  {
   "cell_type": "code",
   "execution_count": 36,
   "metadata": {
    "collapsed": false
   },
   "outputs": [
    {
     "data": {
      "text/plain": [
       "3"
      ]
     },
     "execution_count": 36,
     "metadata": {},
     "output_type": "execute_result"
    }
   ],
   "source": [
    "n2.action"
   ]
  },
  {
   "cell_type": "code",
   "execution_count": null,
   "metadata": {
    "collapsed": true
   },
   "outputs": [],
   "source": []
  }
 ],
 "metadata": {
  "kernelspec": {
   "display_name": "Python 2",
   "language": "python",
   "name": "python2"
  },
  "language_info": {
   "codemirror_mode": {
    "name": "ipython",
    "version": 2
   },
   "file_extension": ".py",
   "mimetype": "text/x-python",
   "name": "python",
   "nbconvert_exporter": "python",
   "pygments_lexer": "ipython2",
   "version": "2.7.12"
  }
 },
 "nbformat": 4,
 "nbformat_minor": 1
}
