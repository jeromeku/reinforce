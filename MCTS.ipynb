{
 "cells": [
  {
   "cell_type": "code",
   "execution_count": 12,
   "metadata": {
    "collapsed": false
   },
   "outputs": [
    {
     "name": "stdout",
     "output_type": "stream",
     "text": [
      "The autoreload extension is already loaded. To reload it, use:\n",
      "  %reload_ext autoreload\n"
     ]
    }
   ],
   "source": [
    "import random\n",
    "import itertools\n",
    "import numpy as np\n",
    "from collections import namedtuple\n",
    "\n",
    "import gym\n",
    "import tensorflow\n",
    "\n",
    "from MCTS import MCTS, PongEnv, Node\n",
    "from utils import partition_points\n",
    "\n",
    "%load_ext autoreload\n",
    "%reload_ext autoreload\n",
    "%autoreload 2"
   ]
  },
  {
   "cell_type": "markdown",
   "metadata": {},
   "source": [
    "__Selection Phase__\n",
    "\n",
    "Starting from root node, run *Tree Policy*\n",
    "\n",
    "*Tree Policy*\n",
    "\n",
    "Cases:\n",
    "1. Not terminal and no children --> run __Expansion__; proceed to case 2\n",
    "2. Not terminal and unexplored children --> Select from unexplored children, proceed to __Simulation__\n",
    "3. Not terminal and all children explored --> Apply bandit algo to select action / child.  Step forward env then select on child.\n",
    "4. Terminal --> Break\n",
    "\n",
    "__Expansion__\n",
    "Initialize child nodes, one for each action\n",
    "\n",
    "__Simulation__\n",
    "Run trajectory according to *rollout policy* starting from node state until terminal state is reached, then __backprop__\n",
    "\n",
    "Pong-specific: end simulation when a point is awarded not according to Pong environment terminal signal, which returns true only at end of game (when one player has reached 21 points).  \n",
    "\n",
    "__Backprop__\n",
    "\n",
    "Starting from terminal node, update value and visits recursively, applying discounts as needed, until root.  "
   ]
  },
  {
   "cell_type": "code",
   "execution_count": 2,
   "metadata": {
    "collapsed": false
   },
   "outputs": [
    {
     "name": "stderr",
     "output_type": "stream",
     "text": [
      "[2016-09-14 03:23:29,928] Making new env: Pong-v0\n"
     ]
    }
   ],
   "source": [
    "#Create env\n",
    "pong = PongEnv()\n",
    "\n",
    "#Initial State\n",
    "init_state = pong.state\n",
    "root = Node(state=init_state)\n",
    "\n",
    "#Run MCTS\n",
    "mcts = MCTS()"
   ]
  },
  {
   "cell_type": "code",
   "execution_count": 3,
   "metadata": {
    "collapsed": false
   },
   "outputs": [
    {
     "name": "stdout",
     "output_type": "stream",
     "text": [
      "expanding\n",
      "\n",
      "exploring child 1\n",
      "simulating\n",
      "Num steps:  1647\n",
      "Final Score: 3 to 21\n",
      "Num Up moves: 815\n",
      "Num Down moves: 832\n",
      "\n",
      "backprop'ing\n",
      "\n"
     ]
    }
   ],
   "source": [
    "mcts.select(root, pong)"
   ]
  },
  {
   "cell_type": "code",
   "execution_count": 13,
   "metadata": {
    "collapsed": false
   },
   "outputs": [
    {
     "name": "stderr",
     "output_type": "stream",
     "text": [
      "[2016-09-14 03:30:55,879] Making new env: Pong-v0\n"
     ]
    }
   ],
   "source": [
    "penv = PongEnv()"
   ]
  },
  {
   "cell_type": "code",
   "execution_count": 14,
   "metadata": {
    "collapsed": true
   },
   "outputs": [],
   "source": [
    "results = penv.simulate()"
   ]
  },
  {
   "cell_type": "code",
   "execution_count": 15,
   "metadata": {
    "collapsed": false
   },
   "outputs": [],
   "source": [
    "s, a, r = results"
   ]
  },
  {
   "cell_type": "code",
   "execution_count": 17,
   "metadata": {
    "collapsed": false
   },
   "outputs": [],
   "source": [
    "seqs = partition_points(s, a, r)"
   ]
  },
  {
   "cell_type": "code",
   "execution_count": 20,
   "metadata": {
    "collapsed": false
   },
   "outputs": [],
   "source": [
    "s0 = seqs[0]\n",
    "s1 = seqs[1]"
   ]
  },
  {
   "cell_type": "code",
   "execution_count": 22,
   "metadata": {
    "collapsed": false
   },
   "outputs": [],
   "source": [
    "init_state0 = s0[0][0]"
   ]
  },
  {
   "cell_type": "code",
   "execution_count": 24,
   "metadata": {
    "collapsed": false
   },
   "outputs": [
    {
     "data": {
      "text/plain": [
       "(210, 160, 3)"
      ]
     },
     "execution_count": 24,
     "metadata": {},
     "output_type": "execute_result"
    }
   ],
   "source": [
    "init_state0.shape"
   ]
  },
  {
   "cell_type": "code",
   "execution_count": 25,
   "metadata": {
    "collapsed": true
   },
   "outputs": [],
   "source": [
    "init_state_1 = s1[0][0]"
   ]
  },
  {
   "cell_type": "code",
   "execution_count": 26,
   "metadata": {
    "collapsed": false
   },
   "outputs": [
    {
     "data": {
      "text/plain": [
       "(210, 160, 3)"
      ]
     },
     "execution_count": 26,
     "metadata": {},
     "output_type": "execute_result"
    }
   ],
   "source": [
    "init_state_1.shape"
   ]
  },
  {
   "cell_type": "code",
   "execution_count": 27,
   "metadata": {
    "collapsed": false
   },
   "outputs": [
    {
     "data": {
      "text/plain": [
       "False"
      ]
     },
     "execution_count": 27,
     "metadata": {},
     "output_type": "execute_result"
    }
   ],
   "source": [
    "np.allclose(init_state0, init_state_1)"
   ]
  },
  {
   "cell_type": "code",
   "execution_count": null,
   "metadata": {
    "collapsed": true
   },
   "outputs": [],
   "source": []
  }
 ],
 "metadata": {
  "kernelspec": {
   "display_name": "Python 2",
   "language": "python",
   "name": "python2"
  },
  "language_info": {
   "codemirror_mode": {
    "name": "ipython",
    "version": 2
   },
   "file_extension": ".py",
   "mimetype": "text/x-python",
   "name": "python",
   "nbconvert_exporter": "python",
   "pygments_lexer": "ipython2",
   "version": "2.7.12"
  }
 },
 "nbformat": 4,
 "nbformat_minor": 1
}
