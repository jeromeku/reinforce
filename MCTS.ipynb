{
 "cells": [
  {
   "cell_type": "code",
   "execution_count": 9,
   "metadata": {
    "collapsed": true
   },
   "outputs": [],
   "source": [
    "import random\n",
    "import itertools\n",
    "import numpy as np\n",
    "from collections import namedtuple\n",
    "\n",
    "import gym\n",
    "import tensorflow\n"
   ]
  },
  {
   "cell_type": "code",
   "execution_count": 159,
   "metadata": {
    "collapsed": false
   },
   "outputs": [],
   "source": [
    "class TestEnv(object):\n",
    "    def __init__(self, name):\n",
    "        self.env = gym.make(name)\n",
    "        self.state = self.env.reset()\n",
    "        self.trajectory = []\n",
    "        self.history = []\n",
    "        self.is_terminal = False\n",
    "        \n",
    "    def reset(self):\n",
    "        self.state = self.env.reset()\n",
    "        self.history = []\n",
    "    \n",
    "    def step(self, a):\n",
    "        next_state, reward, terminal, info = self.env.step(a)\n",
    "        self.state = next_state\n",
    "        self.is_terminal\n",
    "        return next_state, reward, terminal, info\n",
    "        \n",
    "    def simulate(self):\n",
    "        '''Simulate path starting from current state\n",
    "        '''\n",
    "        path = []\n",
    "        while not self.is_terminal:\n",
    "            action = self.sample_action()\n",
    "            next_state, reward, terminal, info = self.env.step(action)\n",
    "            path.append((self.state, action, reward))\n",
    "            self.state = next_state\n",
    "            self.is_terminal = terminal\n",
    "            \n",
    "        return self._unpack(path)\n",
    "    \n",
    "    def rollout(self, num_plays=1):\n",
    "        '''Simulate num_play trajectories\n",
    "        '''\n",
    "        if self.is_terminal:\n",
    "            self.clear()\n",
    "            \n",
    "        for i in range(num_plays):\n",
    "            trajectory = self.simulate()\n",
    "            self.history.append(trajectory)\n",
    "            self.clear()\n",
    "\n",
    "    def _unpack(self, trajectory):\n",
    "        s, a, r = map(list, zip(*trajectory))\n",
    "        return s, a, r\n",
    "    \n",
    "    def get_trajectories(self):\n",
    "        '''Returns list of trajectories, where each trajectory is a list of states, actions, and rewards\n",
    "        '''\n",
    "        if self.history:\n",
    "            return [self._unpack(trajectory) for trajectory in self.history]\n",
    "        else:\n",
    "            print \"No trajectories\"\n",
    "            return None\n",
    "        \n",
    "    def sample_action(self, state=None, policy=None, n=1):\n",
    "        if not policy:\n",
    "            return np.random.choice(self.valid_actions, size=n)\n",
    "            \n",
    "    def clear(self):\n",
    "        self.state = self.env.reset()\n",
    "        self.is_terminal = False\n",
    "        \n",
    "    def clear_all(self):\n",
    "        self.clear()\n",
    "        self.history = []\n",
    "    \n",
    "    @property\n",
    "    def valid_actions(self):\n",
    "        raise NotImplementedError\n",
    "\n",
    "        \n",
    "class PongEnv(TestEnv):\n",
    "    def __init__(self):\n",
    "        super(PongEnv, self).__init__(\"Pong-v0\")\n",
    "        \n",
    "    @property\n",
    "    def valid_actions(self):\n",
    "        '''Valid actions limited to 2 (up) and 3 (down)\n",
    "        '''\n",
    "        return [2,3]\n",
    "\n",
    "def take(it, n):\n",
    "    return list(itertools.islice(it, n))\n",
    "\n",
    "def partition_points(r):\n",
    "    '''\n",
    "    Partition episode (single Pong game) into sequences of points\n",
    "    \n",
    "    First player to reach 21 points wins game.  Partitioning episodes based on point sequences necessary\n",
    "    for proper discounting of rewards (+1 for self point, -1 for opponent point)\n",
    "    '''\n",
    "    \n",
    "    #Get indices of non-zero elements, add 1 for proper slicing\n",
    "    idx = [0] + (np.nonzero(r)[0] + 1).tolist()\n",
    "    slice_sizes = np.diff(idx)\n",
    "    r_iter = iter(r)\n",
    "    seqs = []\n",
    "\n",
    "    for sz in slice_sizes:\n",
    "        seqs.append(take(r_iter,sz))  \n",
    "    \n",
    "    return seqs\n",
    "    \n",
    "class Node(object):\n",
    "    def __init__(self, parent=None, action=None, state=None, terminal=False):\n",
    "        self.parent = parent\n",
    "        self.action = action\n",
    "        self.state = state\n",
    "        self.is_terminal = terminal\n",
    "        self.children = []\n",
    "        self.explored_children = []\n",
    "        self.value = 0.\n",
    "        self.visits = 0.\n",
    "        \n",
    "        \n",
    "    def expand(self, env):\n",
    "        for action in env.valid_actions:\n",
    "            self.children.append(Node(parent=self, action=action))\n",
    "        self.child_iter = iter(self.children)\n",
    "        \n",
    "    @property\n",
    "    def num_children(self):\n",
    "        return len(self.children)\n",
    "    \n",
    "    @property\n",
    "    def num_explored(self):\n",
    "        return len(self.explored_children)\n",
    "    \n",
    "    def get_unvisited(self):\n",
    "        child = next(self.child_iter, None)\n",
    "        self.explored_children.append(child)\n",
    "        return child\n",
    "        \n",
    "    @property\n",
    "    def has_unvisited(self):\n",
    "        return (self.num_explored < self.num_children) and self.num_children > 0\n",
    "    \n",
    "fields = [\"state\", \"action\", \"parent\", \"children\", \"explored_children\", \"visits\", \"value\"]\n"
   ]
  },
  {
   "cell_type": "markdown",
   "metadata": {},
   "source": [
    "__Selection Phase__\n",
    "\n",
    "Cases:\n",
    "- Not terminal and no children --> Expand\n",
    "- Not terminal and unexplored children --> Select from unexplored children\n",
    "- Not terminal and all children explored --> Apply bandit algo\n",
    "- Terminal --> Break"
   ]
  },
  {
   "cell_type": "code",
   "execution_count": 174,
   "metadata": {
    "collapsed": false
   },
   "outputs": [],
   "source": [
    "import pdb\n",
    "\n",
    "def simulate(node, env):\n",
    "    print \"simulating\"\n",
    "    a = node.action\n",
    "    s, r, terminal, info = env.step(a)\n",
    "    node.state = s\n",
    "    \n",
    "    states, actions, rewards = env.simulate()\n",
    "    states = [s] + states\n",
    "    actions = [a] + actions\n",
    "    rewards = [r] + rewards\n",
    "    \n",
    "    return states, actions, rewards\n",
    "\n",
    "def bandit(node):\n",
    "    pass\n",
    "\n",
    "def printDx(result):\n",
    "    s, a, r = map(np.array, result)\n",
    "    print \"Num steps: \", len(s)\n",
    "    print \"Final Score: {} to {}\".format(np.sum(r > 0), np.sum(r < 0))\n",
    "    print \"Num Up moves: {}\".format(np.sum(a == 2))\n",
    "    print \"Num Down moves: {}\".format(np.sum(a == 3))\n",
    "    print\n",
    "    \n",
    "def backprop(result):\n",
    "    print \"backprop'ing\"\n",
    "    print \n",
    "    \n",
    "def select(node, env):\n",
    "    #Expand if new state (and not terminal)\n",
    "    if node.num_children == 0:\n",
    "        print \"expanding\"\n",
    "        node.expand(env)\n",
    "        print \n",
    "        \n",
    "    elif node.has_unvisited:\n",
    "        child = node.get_unvisited()\n",
    "        print \"exploring child {}\".format(node.num_explored)\n",
    "        \n",
    "        #Simulate\n",
    "        action = child.action\n",
    "        result = simulate(child, env)\n",
    "        printDx(result)\n",
    "        \n",
    "        #Backprop\n",
    "        backprop(result)\n",
    "        env.clear()\n",
    "    else:\n",
    "        #Run bandit selection algorithm if expanded and all children visited at least once\n",
    "        bandit(node)\n",
    "        print \"all children visited, running bandit\"\n",
    "        return\n",
    "    select(node, env)"
   ]
  },
  {
   "cell_type": "code",
   "execution_count": 175,
   "metadata": {
    "collapsed": false
   },
   "outputs": [
    {
     "name": "stderr",
     "output_type": "stream",
     "text": [
      "[2016-09-14 01:38:50,403] Making new env: Pong-v0\n"
     ]
    },
    {
     "name": "stdout",
     "output_type": "stream",
     "text": [
      "expanding\n",
      "\n",
      "exploring child 1\n",
      "simulating\n",
      "Num steps:  1254\n",
      "Final Score: 0 to 21\n",
      "Num Up moves: 640\n",
      "Num Down moves: 614\n",
      "\n",
      "backprop'ing\n",
      "\n",
      "exploring child 2\n",
      "simulating\n",
      "Num steps:  1550\n",
      "Final Score: 1 to 21\n",
      "Num Up moves: 727\n",
      "Num Down moves: 823\n",
      "\n",
      "backprop'ing\n",
      "\n",
      "all children visited, running bandit\n"
     ]
    }
   ],
   "source": [
    "#Create env\n",
    "pong = PongEnv()\n",
    "\n",
    "#Initial State\n",
    "init_state = pong.state\n",
    "root = Node(state=init_state)\n",
    "\n",
    "#Run MCTS\n",
    "select(root, pong)"
   ]
  },
  {
   "cell_type": "code",
   "execution_count": 118,
   "metadata": {
    "collapsed": false
   },
   "outputs": [
    {
     "name": "stdout",
     "output_type": "stream",
     "text": [
      "expanding\n",
      "exploring child 0\n",
      "simulating\n",
      "Num steps:  1346\n",
      "Final Score: 0 to 21\n",
      "Num Up moves: 656\n",
      "Num Down moves: 690\n"
     ]
    }
   ],
   "source": []
  },
  {
   "cell_type": "code",
   "execution_count": null,
   "metadata": {
    "collapsed": true
   },
   "outputs": [],
   "source": []
  },
  {
   "cell_type": "code",
   "execution_count": null,
   "metadata": {
    "collapsed": true
   },
   "outputs": [],
   "source": []
  },
  {
   "cell_type": "code",
   "execution_count": null,
   "metadata": {
    "collapsed": true
   },
   "outputs": [],
   "source": [
    "#Selection Phase\n",
    "policy = TreePolicy()\n",
    "def TreePolicy(node):\n",
    "    #3 cases: node has unexplored children\n",
    "def UCB(Policy):"
   ]
  }
 ],
 "metadata": {
  "kernelspec": {
   "display_name": "Python 2",
   "language": "python",
   "name": "python2"
  },
  "language_info": {
   "codemirror_mode": {
    "name": "ipython",
    "version": 2
   },
   "file_extension": ".py",
   "mimetype": "text/x-python",
   "name": "python",
   "nbconvert_exporter": "python",
   "pygments_lexer": "ipython2",
   "version": "2.7.12"
  }
 },
 "nbformat": 4,
 "nbformat_minor": 1
}
