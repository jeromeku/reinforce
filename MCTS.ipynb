{
 "cells": [
  {
   "cell_type": "code",
   "execution_count": 26,
   "metadata": {
    "collapsed": true
   },
   "outputs": [],
   "source": [
    "import random\n",
    "import numpy as np\n",
    "\n",
    "import gym\n",
    "import tensorflow\n",
    "\n",
    "from mcts import Node, ucb\n",
    "\n"
   ]
  },
  {
   "cell_type": "code",
   "execution_count": 12,
   "metadata": {
    "collapsed": false
   },
   "outputs": [
    {
     "data": {
      "text/plain": [
       "['__doc__',\n",
       " '__init__',\n",
       " '__module__',\n",
       " 'action',\n",
       " 'children',\n",
       " 'explored_children',\n",
       " 'parent',\n",
       " 'value',\n",
       " 'visits']"
      ]
     },
     "execution_count": 12,
     "metadata": {},
     "output_type": "execute_result"
    }
   ],
   "source": [
    "node = Node(None, None)\n",
    "\n",
    "dir(node)"
   ]
  },
  {
   "cell_type": "code",
   "execution_count": 77,
   "metadata": {
    "collapsed": true
   },
   "outputs": [],
   "source": [
    "class TestEnv(object):\n",
    "    def __init__(self, name):\n",
    "        self.env = gym.make(name)\n",
    "        self.state = self.env.reset()\n",
    "        self.trajectory = []\n",
    "        self.history = []\n",
    "        self.is_terminal = False\n",
    "        \n",
    "    def reset(self):\n",
    "        self.state = self.env.reset()\n",
    "        self.history = []\n",
    "        \n",
    "    @property\n",
    "    def valid_actions(self):\n",
    "        raise NotImplementedError\n",
    "    \n",
    "    def step(self, action):\n",
    "        \n",
    "        if not self.is_terminal:\n",
    "            next_state, reward, terminal, info = self.env.step(action)\n",
    "            self.trajectory.append([self.state, action, reward])\n",
    "            self.state = next_state\n",
    "            self.is_terminal = terminal\n",
    "            return next_state, reward\n",
    "        else:\n",
    "            return None\n",
    "        \n",
    "    def rollout(self, num_plays=1):\n",
    "        \n",
    "        if self.is_terminal:\n",
    "            self.clear()\n",
    "            \n",
    "        for i in range(num_plays):\n",
    "            self.trajectory = []\n",
    "            while not self.is_terminal:\n",
    "                self.step(self.sample_action())\n",
    "        \n",
    "            self.history.append(self.trajectory)\n",
    "\n",
    "    def _unpack(self, trajectory):\n",
    "        s, a, r = zip(*trajectory)\n",
    "        return s, a, r\n",
    "    \n",
    "    def get_trajectories(self):\n",
    "        '''Returns list of trajectories, where each trajectory is a list of states, actions, and rewards\n",
    "        '''\n",
    "        if self.history:\n",
    "            return [self._unpack(trajectory) for trajectory in self.history]\n",
    "        else:\n",
    "            print \"No trajectories\"\n",
    "            return None\n",
    "        \n",
    "    def sample_action(self, n=1):\n",
    "        return np.random.choice(self.valid_actions, size=n)\n",
    "            \n",
    "    def clear(self):\n",
    "        self.state = self.env.reset()\n",
    "        self.is_terminal = False\n",
    "        \n",
    "    def clear_all(self):\n",
    "        self.clear()\n",
    "        self.history = []\n",
    "        \n",
    "class PongEnv(TestEnv):\n",
    "    def __init__(self):\n",
    "        super(PongEnv, self).__init__(\"Pong-v0\")\n",
    "        \n",
    "    @property\n",
    "    def valid_actions(self):\n",
    "        '''Valid actions limited to 2 (up) and 3 (down)\n",
    "        '''\n",
    "        return [2,3]\n",
    "    \n",
    "    \n"
   ]
  },
  {
   "cell_type": "code",
   "execution_count": 78,
   "metadata": {
    "collapsed": false
   },
   "outputs": [
    {
     "name": "stderr",
     "output_type": "stream",
     "text": [
      "[2016-09-12 19:34:33,110] Making new env: Pong-v0\n"
     ]
    }
   ],
   "source": [
    "pong = PongEnv()"
   ]
  },
  {
   "cell_type": "code",
   "execution_count": 80,
   "metadata": {
    "collapsed": false
   },
   "outputs": [],
   "source": [
    "pong.rollout()"
   ]
  },
  {
   "cell_type": "code",
   "execution_count": 81,
   "metadata": {
    "collapsed": false
   },
   "outputs": [],
   "source": [
    "trajs = pong.get_trajectories()"
   ]
  },
  {
   "cell_type": "code",
   "execution_count": 83,
   "metadata": {
    "collapsed": false
   },
   "outputs": [],
   "source": [
    "s, a, r = trajs[0]"
   ]
  },
  {
   "cell_type": "code",
   "execution_count": 84,
   "metadata": {
    "collapsed": false
   },
   "outputs": [
    {
     "data": {
      "text/plain": [
       "(0.0, 0.0, 0.0, 0.0, -1.0)"
      ]
     },
     "execution_count": 84,
     "metadata": {},
     "output_type": "execute_result"
    }
   ],
   "source": []
  },
  {
   "cell_type": "code",
   "execution_count": null,
   "metadata": {
    "collapsed": true
   },
   "outputs": [],
   "source": []
  }
 ],
 "metadata": {
  "kernelspec": {
   "display_name": "Python 2",
   "language": "python",
   "name": "python2"
  },
  "language_info": {
   "codemirror_mode": {
    "name": "ipython",
    "version": 2
   },
   "file_extension": ".py",
   "mimetype": "text/x-python",
   "name": "python",
   "nbconvert_exporter": "python",
   "pygments_lexer": "ipython2",
   "version": "2.7.12"
  }
 },
 "nbformat": 4,
 "nbformat_minor": 1
}
