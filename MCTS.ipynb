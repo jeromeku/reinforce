{
 "cells": [
  {
   "cell_type": "code",
   "execution_count": 3,
   "metadata": {
    "collapsed": true
   },
   "outputs": [],
   "source": [
    "import random\n",
    "import numpy as np\n",
    "\n",
    "import gym\n",
    "import tensorflow\n",
    "\n",
    "from mcts import Node, ucb\n",
    "\n"
   ]
  },
  {
   "cell_type": "code",
   "execution_count": 4,
   "metadata": {
    "collapsed": true
   },
   "outputs": [],
   "source": [
    "class TestEnv(object):\n",
    "    def __init__(self, name):\n",
    "        self.env = gym.make(name)\n",
    "        self.state = self.env.reset()\n",
    "        self.trajectory = []\n",
    "        self.history = []\n",
    "        self.is_terminal = False\n",
    "        \n",
    "    def reset(self):\n",
    "        self.state = self.env.reset()\n",
    "        self.history = []\n",
    "        \n",
    "    @property\n",
    "    def valid_actions(self):\n",
    "        raise NotImplementedError\n",
    "    \n",
    "    def simulate(self):\n",
    "        '''Simulate path starting from current state\n",
    "        '''\n",
    "        path = []\n",
    "        while not self.is_terminal:\n",
    "            action = self.sample_action()\n",
    "            next_state, reward, terminal, info = self.env.step(action)\n",
    "            path.append((self.state, action, reward))\n",
    "            self.state = next_state\n",
    "            self.is_terminal = terminal\n",
    "            \n",
    "        return path\n",
    "    \n",
    "    def rollout(self, num_plays=1):\n",
    "        '''Simulate num_play trajectories\n",
    "        '''\n",
    "        if self.is_terminal:\n",
    "            self.clear()\n",
    "            \n",
    "        for i in range(num_plays):\n",
    "            trajectory = self.simulate()\n",
    "            self.history.append(trajectory)\n",
    "            self.clear()\n",
    "\n",
    "    def _unpack(self, trajectory):\n",
    "        s, a, r = zip(*trajectory)\n",
    "        return s, a, r\n",
    "    \n",
    "    def get_trajectories(self):\n",
    "        '''Returns list of trajectories, where each trajectory is a list of states, actions, and rewards\n",
    "        '''\n",
    "        if self.history:\n",
    "            return [self._unpack(trajectory) for trajectory in self.history]\n",
    "        else:\n",
    "            print \"No trajectories\"\n",
    "            return None\n",
    "        \n",
    "    def sample_action(self, state=None, policy=None, n=1):\n",
    "        if not policy:\n",
    "            return np.random.choice(self.valid_actions, size=n)\n",
    "            \n",
    "    def clear(self):\n",
    "        self.state = self.env.reset()\n",
    "        self.is_terminal = False\n",
    "        \n",
    "    def clear_all(self):\n",
    "        self.clear()\n",
    "        self.history = []\n",
    "        \n",
    "class PongEnv(TestEnv):\n",
    "    def __init__(self):\n",
    "        super(PongEnv, self).__init__(\"Pong-v0\")\n",
    "        \n",
    "    @property\n",
    "    def valid_actions(self):\n",
    "        '''Valid actions limited to 2 (up) and 3 (down)\n",
    "        '''\n",
    "        return [2,3]\n",
    "    \n",
    "    \n"
   ]
  },
  {
   "cell_type": "code",
   "execution_count": 6,
   "metadata": {
    "collapsed": false
   },
   "outputs": [
    {
     "name": "stderr",
     "output_type": "stream",
     "text": [
      "[2016-09-13 01:58:19,522] Making new env: Pong-v0\n"
     ]
    }
   ],
   "source": [
    "pong = PongEnv()"
   ]
  },
  {
   "cell_type": "code",
   "execution_count": 9,
   "metadata": {
    "collapsed": false
   },
   "outputs": [],
   "source": [
    "pong.rollout()"
   ]
  },
  {
   "cell_type": "code",
   "execution_count": 10,
   "metadata": {
    "collapsed": false
   },
   "outputs": [
    {
     "data": {
      "text/plain": [
       "2"
      ]
     },
     "execution_count": 10,
     "metadata": {},
     "output_type": "execute_result"
    }
   ],
   "source": [
    "len(pong.history)"
   ]
  },
  {
   "cell_type": "code",
   "execution_count": 11,
   "metadata": {
    "collapsed": false
   },
   "outputs": [],
   "source": [
    "ts = pong.get_trajectories()"
   ]
  },
  {
   "cell_type": "code",
   "execution_count": 12,
   "metadata": {
    "collapsed": false
   },
   "outputs": [],
   "source": [
    "s, a, r = ts[0]"
   ]
  },
  {
   "cell_type": "code",
   "execution_count": 58,
   "metadata": {
    "collapsed": false
   },
   "outputs": [],
   "source": [
    "import itertools\n",
    "\n",
    "\n",
    "def take(it, n):\n",
    "    return list(itertools.islice(it, n))\n",
    "\n",
    "def partition_points(r):\n",
    "    '''\n",
    "    Partition episode (single Pong game) into sequences of points\n",
    "    \n",
    "    First player to reach 21 points wins game.  Partitioning episodes based on point sequences necessary\n",
    "    for proper discounting of rewards (+1 for self point, -1 for opponent point)\n",
    "    '''\n",
    "    \n",
    "    #Get indices of non-zero elements, add 1 for proper slicing\n",
    "    idx = [0] + (np.nonzero(r)[0] + 1).tolist()\n",
    "    slice_sizes = np.diff(idx)\n",
    "    r_iter = iter(r)\n",
    "    seqs = []\n",
    "\n",
    "    for sz in slice_sizes:\n",
    "        seqs.append(take(r_iter,sz))  \n",
    "    \n",
    "    return seqs\n",
    "        "
   ]
  },
  {
   "cell_type": "code",
   "execution_count": 59,
   "metadata": {
    "collapsed": false
   },
   "outputs": [],
   "source": [
    "seqs = partition_points(r)\n"
   ]
  },
  {
   "cell_type": "code",
   "execution_count": 61,
   "metadata": {
    "collapsed": false
   },
   "outputs": [
    {
     "data": {
      "text/plain": [
       "[-1.0,\n",
       " -1.0,\n",
       " -1.0,\n",
       " -1.0,\n",
       " -1.0,\n",
       " -1.0,\n",
       " -1.0,\n",
       " -1.0,\n",
       " -1.0,\n",
       " -1.0,\n",
       " -1.0,\n",
       " -1.0,\n",
       " -1.0,\n",
       " -1.0,\n",
       " -1.0,\n",
       " -1.0,\n",
       " -1.0,\n",
       " -1.0,\n",
       " -1.0,\n",
       " -1.0,\n",
       " -1.0]"
      ]
     },
     "execution_count": 61,
     "metadata": {},
     "output_type": "execute_result"
    }
   ],
   "source": [
    "[sum(s) for s in seqs]"
   ]
  },
  {
   "cell_type": "code",
   "execution_count": 52,
   "metadata": {
    "collapsed": false
   },
   "outputs": [
    {
     "data": {
      "text/plain": [
       "21"
      ]
     },
     "execution_count": 52,
     "metadata": {},
     "output_type": "execute_result"
    }
   ],
   "source": [
    "len(seqs)\n"
   ]
  },
  {
   "cell_type": "code",
   "execution_count": 55,
   "metadata": {
    "collapsed": false
   },
   "outputs": [
    {
     "data": {
      "text/plain": [
       "[-1.0,\n",
       " -1.0,\n",
       " -1.0,\n",
       " -1.0,\n",
       " -1.0,\n",
       " -1.0,\n",
       " -1.0,\n",
       " -1.0,\n",
       " -1.0,\n",
       " -1.0,\n",
       " -1.0,\n",
       " -1.0,\n",
       " -1.0,\n",
       " -1.0,\n",
       " -1.0,\n",
       " -1.0,\n",
       " -1.0,\n",
       " -1.0,\n",
       " -1.0,\n",
       " -1.0,\n",
       " -1.0]"
      ]
     },
     "execution_count": 55,
     "metadata": {},
     "output_type": "execute_result"
    }
   ],
   "source": [
    "[sum(seq) for seq in seqs]"
   ]
  },
  {
   "cell_type": "code",
   "execution_count": 29,
   "metadata": {
    "collapsed": false
   },
   "outputs": [
    {
     "data": {
      "text/plain": [
       "True"
      ]
     },
     "execution_count": 29,
     "metadata": {},
     "output_type": "execute_result"
    }
   ],
   "source": [
    "np.allclose(r[0], 0.)"
   ]
  },
  {
   "cell_type": "code",
   "execution_count": 30,
   "metadata": {
    "collapsed": false
   },
   "outputs": [
    {
     "data": {
      "text/plain": [
       "[0.0,\n",
       " 0.0,\n",
       " 0.0,\n",
       " 0.0,\n",
       " 0.0,\n",
       " 0.0,\n",
       " 0.0,\n",
       " 0.0,\n",
       " 0.0,\n",
       " 0.0,\n",
       " 0.0,\n",
       " 0.0,\n",
       " 0.0,\n",
       " 0.0,\n",
       " 0.0,\n",
       " 0.0,\n",
       " 0.0,\n",
       " 0.0,\n",
       " 0.0,\n",
       " 0.0,\n",
       " 0.0,\n",
       " 0.0,\n",
       " 0.0,\n",
       " 0.0,\n",
       " 0.0,\n",
       " 0.0,\n",
       " 0.0,\n",
       " 0.0,\n",
       " 0.0,\n",
       " 0.0,\n",
       " 0.0,\n",
       " 0.0,\n",
       " 0.0,\n",
       " 0.0,\n",
       " 0.0,\n",
       " 0.0,\n",
       " 0.0,\n",
       " 0.0,\n",
       " 0.0,\n",
       " 0.0,\n",
       " 0.0,\n",
       " 0.0,\n",
       " 0.0,\n",
       " 0.0,\n",
       " 0.0,\n",
       " 0.0,\n",
       " 0.0,\n",
       " 0.0,\n",
       " 0.0,\n",
       " 0.0,\n",
       " 0.0,\n",
       " 0.0,\n",
       " 0.0,\n",
       " 0.0,\n",
       " 0.0,\n",
       " 0.0,\n",
       " 0.0,\n",
       " 0.0,\n",
       " 0.0,\n",
       " 0.0,\n",
       " 0.0,\n",
       " 0.0,\n",
       " 0.0,\n",
       " 0.0,\n",
       " 0.0,\n",
       " 0.0,\n",
       " 0.0,\n",
       " 0.0,\n",
       " 0.0,\n",
       " 0.0,\n",
       " 0.0,\n",
       " 0.0,\n",
       " 0.0,\n",
       " 0.0,\n",
       " 0.0,\n",
       " 0.0,\n",
       " 0.0,\n",
       " 0.0,\n",
       " 0.0,\n",
       " 0.0,\n",
       " 0.0,\n",
       " 0.0,\n",
       " 0.0,\n",
       " 0.0,\n",
       " 0.0]"
      ]
     },
     "execution_count": 30,
     "metadata": {},
     "output_type": "execute_result"
    }
   ],
   "source": [
    "list(itertools.takewhile(lambda x: x == 0., iter(r)))"
   ]
  },
  {
   "cell_type": "code",
   "execution_count": null,
   "metadata": {
    "collapsed": true
   },
   "outputs": [],
   "source": []
  }
 ],
 "metadata": {
  "kernelspec": {
   "display_name": "Python 2",
   "language": "python",
   "name": "python2"
  },
  "language_info": {
   "codemirror_mode": {
    "name": "ipython",
    "version": 2
   },
   "file_extension": ".py",
   "mimetype": "text/x-python",
   "name": "python",
   "nbconvert_exporter": "python",
   "pygments_lexer": "ipython2",
   "version": "2.7.12"
  }
 },
 "nbformat": 4,
 "nbformat_minor": 1
}
