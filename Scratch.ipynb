{
 "cells": [
  {
   "cell_type": "code",
   "execution_count": 59,
   "metadata": {
    "collapsed": false
   },
   "outputs": [
    {
     "name": "stdout",
     "output_type": "stream",
     "text": [
      "The autoreload extension is already loaded. To reload it, use:\n",
      "  %reload_ext autoreload\n"
     ]
    }
   ],
   "source": [
    "import numpy as np\n",
    "import inspect\n",
    "import functools\n",
    "\n",
    "import tensorflow as tf\n",
    "import gym\n",
    "\n",
    "import reinforce.config as config\n",
    "from reinforce.utils import trajectory_dx, partition_rewards, discount_rewards, discount_check\n",
    "from reinforce.agent import PGAgent, RandomAgent\n",
    "from reinforce.layers import MLP\n",
    "from reinforce.train import run_trajectory, rollout\n",
    "\n",
    "%load_ext autoreload\n",
    "%autoreload 2"
   ]
  },
  {
   "cell_type": "code",
   "execution_count": 60,
   "metadata": {
    "collapsed": false
   },
   "outputs": [
    {
     "name": "stderr",
     "output_type": "stream",
     "text": [
      "[2016-09-03 19:50:41,288] Making new env: Pong-v0\n"
     ]
    }
   ],
   "source": [
    "#Gym setup\n",
    "env = gym.make(\"Pong-v0\")\n",
    "\n",
    "#TF Setup\n",
    "g = tf.Graph()\n",
    "sess = tf.Session(graph=g)\n",
    "\n",
    "#RL Agent Setup\n",
    "action_params = {\n",
    "                \"input_dim\": config.state_dim,\n",
    "                \"hidden_dim\": config.hidden_dim,\n",
    "                \"output_dim\": config.output_dim\n",
    "                }\n",
    "agent = PGAgent(g, sess, config.state_dim, MLP, action_params)\n",
    "test_agent = RandomAgent()\n"
   ]
  },
  {
   "cell_type": "code",
   "execution_count": 77,
   "metadata": {
    "collapsed": false
   },
   "outputs": [],
   "source": [
    "_ = agent.rollout(3,env)"
   ]
  },
  {
   "cell_type": "code",
   "execution_count": 915,
   "metadata": {
    "collapsed": false
   },
   "outputs": [],
   "source": [
    "experience_buffer = {}\n",
    "\n",
    "def env_cor(env):\n",
    "    init_state = env.reset()\n",
    "    action = yield init_state\n",
    "    \n",
    "    try:\n",
    "        while True:\n",
    "            state, reward, done, info = env.step(action)\n",
    "            print \"reward {}, done {}\".format(reward, done)\n",
    "            action = yield (state, reward)\n",
    "            \n",
    "            if done:\n",
    "                raise StopIteration\n",
    "    except TypeError, IndexError:\n",
    "        print \"Action {} not allowed.  Action space is {}.\".format(action, env.action_space)\n",
    "    except GeneratorExit:\n",
    "        print \"Gen exited\"\n",
    "        \n",
    "def agent_cor(agent):\n",
    "   \n",
    "    state = yield\n",
    "    \n",
    "    try:\n",
    "        while True:\n",
    "            aprob, action = agent.act(state)\n",
    "            next_state = yield action            \n",
    "            state = next_state\n",
    "    except GeneratorExit, StopIteration:\n",
    "        print \"Simulation Finished\"\n",
    "    else:\n",
    "        raise\n",
    "        \n",
    "def simulate(agent, env):\n",
    "    states, actions, rewards = [], [], []\n",
    "    \n",
    "    acor = agent_cor(agent)\n",
    "    next(acor) #prime \n",
    "     \n",
    "    state = init_state = env.reset()\n",
    "    action = init_action = acor.send(init_state)\n",
    "    states.append(state)\n",
    "    actions.append(action)\n",
    "    done = False\n",
    "\n",
    "    while not done:       \n",
    "        next_state, reward, done, info = env.step(action)          \n",
    "        rewards.append(reward)\n",
    "        \n",
    "        state = next_state\n",
    "        action = acor.send(state)    \n",
    "        states.append(state)\n",
    "        actions.append(action)\n",
    "        \n",
    "    acor.close()\n",
    "    \n",
    "    return map(np.array, [states, actions, rewards])"
   ]
  },
  {
   "cell_type": "code",
   "execution_count": 924,
   "metadata": {
    "collapsed": false
   },
   "outputs": [
    {
     "name": "stdout",
     "output_type": "stream",
     "text": [
      "Simulation Finished\n",
      "Total actions: 1034\n",
      "Total reward: -21.0\n",
      "# of Up moves: 840\n",
      "# of Down moves: 194\n",
      "# of positive rewards 0\n",
      "# of negative rewards 21\n",
      "None\n"
     ]
    }
   ],
   "source": [
    "states, actions, rewards = simulate(agent, env)\n",
    "print trajectory_dx(states, actions, rewards)"
   ]
  },
  {
   "cell_type": "code",
   "execution_count": 913,
   "metadata": {
    "collapsed": false
   },
   "outputs": [
    {
     "name": "stdout",
     "output_type": "stream",
     "text": [
      "1096 1096 1096\n"
     ]
    }
   ],
   "source": [
    "print len(states), len(actions), len(rewards)"
   ]
  },
  {
   "cell_type": "code",
   "execution_count": 70,
   "metadata": {
    "collapsed": false
   },
   "outputs": [],
   "source": [
    "next(acor)\n"
   ]
  },
  {
   "cell_type": "code",
   "execution_count": 882,
   "metadata": {
    "collapsed": false
   },
   "outputs": [
    {
     "ename": "AttributeError",
     "evalue": "'NoneType' object has no attribute 'send'",
     "output_type": "error",
     "traceback": [
      "\u001b[0;31m---------------------------------------------------------------------------\u001b[0m",
      "\u001b[0;31mAttributeError\u001b[0m                            Traceback (most recent call last)",
      "\u001b[0;32m<ipython-input-882-b0d6ccb64b26>\u001b[0m in \u001b[0;36m<module>\u001b[0;34m()\u001b[0m\n\u001b[0;32m----> 1\u001b[0;31m \u001b[0ma\u001b[0m \u001b[0;34m=\u001b[0m \u001b[0macor\u001b[0m\u001b[0;34m.\u001b[0m\u001b[0msend\u001b[0m\u001b[0;34m(\u001b[0m\u001b[0mstate\u001b[0m\u001b[0;34m)\u001b[0m\u001b[0;34m\u001b[0m\u001b[0m\n\u001b[0m",
      "\u001b[0;31mAttributeError\u001b[0m: 'NoneType' object has no attribute 'send'"
     ]
    }
   ],
   "source": [
    "a = acor.send(state)"
   ]
  },
  {
   "cell_type": "code",
   "execution_count": 877,
   "metadata": {
    "collapsed": false
   },
   "outputs": [
    {
     "name": "stdout",
     "output_type": "stream",
     "text": [
      "reward 0.0, done False\n"
     ]
    }
   ],
   "source": []
  },
  {
   "cell_type": "code",
   "execution_count": 878,
   "metadata": {
    "collapsed": false
   },
   "outputs": [
    {
     "name": "stdout",
     "output_type": "stream",
     "text": [
      "reward 0.0, done False\n",
      "reward 0.0, done False\n",
      "reward 0.0, done False\n",
      "reward 0.0, done False\n",
      "reward 0.0, done False\n",
      "reward 0.0, done False\n",
      "reward 0.0, done False\n",
      "reward 0.0, done False\n",
      "reward 0.0, done False\n",
      "reward 0.0, done False\n",
      "reward 0.0, done False\n",
      "reward 0.0, done False\n",
      "reward 0.0, done False\n",
      "reward 0.0, done False\n",
      "reward 0.0, done False\n",
      "reward 0.0, done False\n",
      "reward 0.0, done False\n",
      "reward 0.0, done False\n",
      "reward 0.0, done False\n",
      "reward 0.0, done False\n",
      "reward 0.0, done False\n",
      "reward 0.0, done False\n",
      "reward 0.0, done False\n",
      "reward 0.0, done False\n",
      "reward 0.0, done False\n",
      "reward 0.0, done False\n",
      "reward 0.0, done False\n",
      "reward 0.0, done False\n",
      "reward 0.0, done False\n",
      "reward 0.0, done False\n",
      "reward 0.0, done False\n",
      "reward 0.0, done False\n",
      "reward 0.0, done False\n",
      "reward 0.0, done False\n",
      "reward 0.0, done False\n",
      "reward -1.0, done False\n",
      "reward 0.0, done False\n",
      "reward 0.0, done False\n",
      "reward 0.0, done False\n",
      "reward 0.0, done False\n",
      "reward 0.0, done False\n",
      "reward 0.0, done False\n",
      "reward 0.0, done False\n",
      "reward 0.0, done False\n",
      "reward 0.0, done False\n",
      "reward 0.0, done False\n",
      "reward 0.0, done False\n",
      "reward 0.0, done False\n",
      "reward 0.0, done False\n",
      "reward 0.0, done False\n",
      "reward 0.0, done False\n",
      "reward 0.0, done False\n",
      "reward 0.0, done False\n",
      "reward 0.0, done False\n",
      "reward 0.0, done False\n",
      "reward 0.0, done False\n",
      "reward 0.0, done False\n",
      "reward 0.0, done False\n",
      "reward 0.0, done False\n",
      "reward 0.0, done False\n",
      "reward 0.0, done False\n",
      "reward 0.0, done False\n",
      "reward 0.0, done False\n",
      "reward 0.0, done False\n",
      "reward 0.0, done False\n",
      "reward 0.0, done False\n",
      "reward 0.0, done False\n",
      "reward 0.0, done False\n",
      "reward 0.0, done False\n",
      "reward 0.0, done False\n",
      "reward 0.0, done False\n",
      "reward 0.0, done False\n",
      "reward 0.0, done False\n",
      "reward 0.0, done False\n",
      "reward 0.0, done False\n",
      "reward 0.0, done False\n",
      "reward 0.0, done False\n",
      "reward 0.0, done False\n",
      "reward 0.0, done False\n",
      "reward 0.0, done False\n",
      "reward 0.0, done False\n",
      "reward -1.0, done False\n",
      "reward 0.0, done False\n",
      "reward 0.0, done False\n",
      "reward 0.0, done False\n",
      "reward 0.0, done False\n",
      "reward 0.0, done False\n",
      "reward 0.0, done False\n",
      "reward 0.0, done False\n",
      "reward 0.0, done False\n",
      "reward 0.0, done False\n",
      "reward 0.0, done False\n",
      "reward 0.0, done False\n",
      "reward 0.0, done False\n",
      "reward 0.0, done False\n",
      "reward 0.0, done False\n",
      "reward 0.0, done False\n",
      "reward 0.0, done False\n",
      "reward 0.0, done False\n",
      "reward 0.0, done False\n",
      "reward 0.0, done False\n",
      "reward 0.0, done False\n",
      "reward 0.0, done False\n",
      "reward 0.0, done False\n",
      "reward 0.0, done False\n",
      "reward 0.0, done False\n",
      "reward 0.0, done False\n",
      "reward 0.0, done False\n",
      "reward 0.0, done False\n",
      "reward 0.0, done False\n",
      "reward 0.0, done False\n",
      "reward 0.0, done False\n",
      "reward 0.0, done False\n",
      "reward 0.0, done False\n",
      "reward 0.0, done False\n",
      "reward 0.0, done False\n",
      "reward 0.0, done False\n",
      "reward 0.0, done False\n",
      "reward 0.0, done False\n",
      "reward 0.0, done False\n",
      "reward 0.0, done False\n",
      "reward 0.0, done False\n",
      "reward 0.0, done False\n",
      "reward 0.0, done False\n",
      "reward 0.0, done False\n",
      "reward 0.0, done False\n",
      "reward -1.0, done False\n",
      "reward 0.0, done False\n",
      "reward 0.0, done False\n",
      "reward 0.0, done False\n",
      "reward 0.0, done False\n",
      "reward 0.0, done False\n",
      "reward 0.0, done False\n",
      "reward 0.0, done False\n",
      "reward 0.0, done False\n",
      "reward 0.0, done False\n",
      "reward 0.0, done False\n",
      "reward 0.0, done False\n",
      "reward 0.0, done False\n",
      "reward 0.0, done False\n",
      "reward 0.0, done False\n",
      "reward 0.0, done False\n",
      "reward 0.0, done False\n",
      "reward 0.0, done False\n",
      "reward 0.0, done False\n",
      "reward 0.0, done False\n",
      "reward 0.0, done False\n",
      "reward 0.0, done False\n",
      "reward 0.0, done False\n",
      "reward 0.0, done False\n",
      "reward 0.0, done False\n",
      "reward 0.0, done False\n",
      "reward 0.0, done False\n",
      "reward 0.0, done False\n",
      "reward 0.0, done False\n",
      "reward 0.0, done False\n",
      "reward 0.0, done False\n",
      "reward 0.0, done False\n",
      "reward 0.0, done False\n",
      "reward 0.0, done False\n",
      "reward 0.0, done False\n",
      "reward 0.0, done False\n",
      "reward 0.0, done False\n",
      "reward 0.0, done False\n",
      "reward 0.0, done False\n",
      "reward 0.0, done False\n",
      "reward 0.0, done False\n",
      "reward 0.0, done False\n",
      "reward 0.0, done False\n",
      "reward 0.0, done False\n",
      "reward 0.0, done False\n",
      "reward 0.0, done False\n",
      "reward -1.0, done False\n",
      "reward 0.0, done False\n",
      "reward 0.0, done False\n",
      "reward 0.0, done False\n",
      "reward 0.0, done False\n",
      "reward 0.0, done False\n",
      "reward 0.0, done False\n",
      "reward 0.0, done False\n",
      "reward 0.0, done False\n",
      "reward 0.0, done False\n",
      "reward 0.0, done False\n",
      "reward 0.0, done False\n",
      "reward 0.0, done False\n",
      "reward 0.0, done False\n",
      "reward 0.0, done False\n",
      "reward 0.0, done False\n",
      "reward 0.0, done False\n",
      "reward 0.0, done False\n",
      "reward 0.0, done False\n",
      "reward 0.0, done False\n",
      "reward 0.0, done False\n",
      "reward 0.0, done False\n",
      "reward 0.0, done False\n",
      "reward 0.0, done False\n",
      "reward 0.0, done False\n",
      "reward 0.0, done False\n",
      "reward 0.0, done False\n",
      "reward 0.0, done False\n",
      "reward 0.0, done False\n",
      "reward 0.0, done False\n",
      "reward 0.0, done False\n",
      "reward 0.0, done False\n",
      "reward 0.0, done False\n",
      "reward 0.0, done False\n",
      "reward 0.0, done False\n",
      "reward 0.0, done False\n",
      "reward 0.0, done False\n",
      "reward 0.0, done False\n",
      "reward 0.0, done False\n",
      "reward 0.0, done False\n",
      "reward 0.0, done False\n",
      "reward 0.0, done False\n",
      "reward 0.0, done False\n",
      "reward 0.0, done False\n",
      "reward -1.0, done True\n",
      "Gen exited\n"
     ]
    },
    {
     "ename": "StopIteration",
     "evalue": "",
     "output_type": "error",
     "traceback": [
      "\u001b[0;31m---------------------------------------------------------------------------\u001b[0m",
      "\u001b[0;31mStopIteration\u001b[0m                             Traceback (most recent call last)",
      "\u001b[0;32m<ipython-input-878-389783d8d7c7>\u001b[0m in \u001b[0;36m<module>\u001b[0;34m()\u001b[0m\n\u001b[1;32m      1\u001b[0m \u001b[0;32mwhile\u001b[0m \u001b[0mTrue\u001b[0m\u001b[0;34m:\u001b[0m\u001b[0;34m\u001b[0m\u001b[0m\n\u001b[0;32m----> 2\u001b[0;31m     \u001b[0ms\u001b[0m\u001b[0;34m,\u001b[0m \u001b[0mr\u001b[0m \u001b[0;34m=\u001b[0m \u001b[0mecor\u001b[0m\u001b[0;34m.\u001b[0m\u001b[0msend\u001b[0m\u001b[0;34m(\u001b[0m\u001b[0ma\u001b[0m\u001b[0;34m)\u001b[0m\u001b[0;34m\u001b[0m\u001b[0m\n\u001b[0m\u001b[1;32m      3\u001b[0m     \u001b[0ma\u001b[0m \u001b[0;34m=\u001b[0m \u001b[0macor\u001b[0m\u001b[0;34m.\u001b[0m\u001b[0msend\u001b[0m\u001b[0;34m(\u001b[0m\u001b[0;34m(\u001b[0m\u001b[0ms\u001b[0m\u001b[0;34m,\u001b[0m\u001b[0mr\u001b[0m\u001b[0;34m)\u001b[0m\u001b[0;34m)\u001b[0m\u001b[0;34m\u001b[0m\u001b[0m\n",
      "\u001b[0;31mStopIteration\u001b[0m: "
     ]
    }
   ],
   "source": [
    "while True:\n",
    "    s, r = ecor.send(a)\n",
    "    a = acor.send((s,r))"
   ]
  },
  {
   "cell_type": "code",
   "execution_count": 74,
   "metadata": {
    "collapsed": true
   },
   "outputs": [],
   "source": []
  },
  {
   "cell_type": "code",
   "execution_count": 75,
   "metadata": {
    "collapsed": false
   },
   "outputs": [
    {
     "data": {
      "text/plain": [
       "3"
      ]
     },
     "execution_count": 75,
     "metadata": {},
     "output_type": "execute_result"
    }
   ],
   "source": [
    "a"
   ]
  },
  {
   "cell_type": "code",
   "execution_count": 64,
   "metadata": {
    "collapsed": false
   },
   "outputs": [
    {
     "data": {
      "text/plain": [
       "3"
      ]
     },
     "execution_count": 64,
     "metadata": {},
     "output_type": "execute_result"
    }
   ],
   "source": [
    "a"
   ]
  },
  {
   "cell_type": "code",
   "execution_count": 65,
   "metadata": {
    "collapsed": false
   },
   "outputs": [
    {
     "ename": "ValueError",
     "evalue": "too many values to unpack",
     "output_type": "error",
     "traceback": [
      "\u001b[0;31m---------------------------------------------------------------------------\u001b[0m",
      "\u001b[0;31mValueError\u001b[0m                                Traceback (most recent call last)",
      "\u001b[0;32m<ipython-input-65-b19ef0780163>\u001b[0m in \u001b[0;36m<module>\u001b[0;34m()\u001b[0m\n\u001b[0;32m----> 1\u001b[0;31m \u001b[0mo\u001b[0m\u001b[0;34m,\u001b[0m \u001b[0mr\u001b[0m\u001b[0;34m,\u001b[0m \u001b[0md\u001b[0m\u001b[0;34m,\u001b[0m \u001b[0mi\u001b[0m \u001b[0;34m=\u001b[0m \u001b[0mecor\u001b[0m\u001b[0;34m.\u001b[0m\u001b[0msend\u001b[0m\u001b[0;34m(\u001b[0m\u001b[0ma\u001b[0m\u001b[0;34m)\u001b[0m\u001b[0;34m\u001b[0m\u001b[0m\n\u001b[0m",
      "\u001b[0;31mValueError\u001b[0m: too many values to unpack"
     ]
    }
   ],
   "source": [
    "o, r, d, i = ecor.send(a)"
   ]
  },
  {
   "cell_type": "code",
   "execution_count": null,
   "metadata": {
    "collapsed": true
   },
   "outputs": [],
   "source": []
  },
  {
   "cell_type": "code",
   "execution_count": 16,
   "metadata": {
    "collapsed": false
   },
   "outputs": [],
   "source": [
    "def my_coroutine():\n",
    "    while True:\n",
    "        received = yield\n",
    "        print('Received:', received)"
   ]
  },
  {
   "cell_type": "code",
   "execution_count": 44,
   "metadata": {
    "collapsed": true
   },
   "outputs": [],
   "source": [
    "dynamics = env_cor(env)"
   ]
  },
  {
   "cell_type": "code",
   "execution_count": 48,
   "metadata": {
    "collapsed": false
   },
   "outputs": [
    {
     "name": "stdout",
     "output_type": "stream",
     "text": [
      "Gen exited\n"
     ]
    }
   ],
   "source": [
    "dynamics.close()"
   ]
  },
  {
   "cell_type": "code",
   "execution_count": 33,
   "metadata": {
    "collapsed": false
   },
   "outputs": [
    {
     "ename": "IndexError",
     "evalue": "index 24 is out of bounds for axis 0 with size 6",
     "output_type": "error",
     "traceback": [
      "\u001b[0;31m---------------------------------------------------------------------------\u001b[0m",
      "\u001b[0;31mIndexError\u001b[0m                                Traceback (most recent call last)",
      "\u001b[0;32m<ipython-input-33-afd5f3210ebc>\u001b[0m in \u001b[0;36m<module>\u001b[0;34m()\u001b[0m\n\u001b[0;32m----> 1\u001b[0;31m \u001b[0mdynamics\u001b[0m\u001b[0;34m.\u001b[0m\u001b[0msend\u001b[0m\u001b[0;34m(\u001b[0m\u001b[0;36m24\u001b[0m\u001b[0;34m)\u001b[0m\u001b[0;34m\u001b[0m\u001b[0m\n\u001b[0m",
      "\u001b[0;32m<ipython-input-15-5eeeaa5474b2>\u001b[0m in \u001b[0;36menv_cor\u001b[0;34m(env)\u001b[0m\n\u001b[1;32m      5\u001b[0m         \u001b[0;32mwhile\u001b[0m \u001b[0mTrue\u001b[0m\u001b[0;34m:\u001b[0m\u001b[0;34m\u001b[0m\u001b[0m\n\u001b[1;32m      6\u001b[0m             \u001b[0maction\u001b[0m \u001b[0;34m=\u001b[0m \u001b[0;32myield\u001b[0m \u001b[0mstate\u001b[0m\u001b[0;34m\u001b[0m\u001b[0m\n\u001b[0;32m----> 7\u001b[0;31m             \u001b[0mobservation\u001b[0m\u001b[0;34m,\u001b[0m \u001b[0mreward\u001b[0m\u001b[0;34m,\u001b[0m \u001b[0mdone\u001b[0m\u001b[0;34m,\u001b[0m \u001b[0minfo\u001b[0m \u001b[0;34m=\u001b[0m \u001b[0menv\u001b[0m\u001b[0;34m.\u001b[0m\u001b[0mstep\u001b[0m\u001b[0;34m(\u001b[0m\u001b[0maction\u001b[0m\u001b[0;34m)\u001b[0m\u001b[0;34m\u001b[0m\u001b[0m\n\u001b[0m\u001b[1;32m      8\u001b[0m             \u001b[0;32mif\u001b[0m \u001b[0mdone\u001b[0m\u001b[0;34m:\u001b[0m\u001b[0;34m\u001b[0m\u001b[0m\n\u001b[1;32m      9\u001b[0m                 \u001b[0;32mbreak\u001b[0m\u001b[0;34m\u001b[0m\u001b[0m\n",
      "\u001b[0;32m/usr/local/lib/python2.7/dist-packages/gym/core.pyc\u001b[0m in \u001b[0;36mstep\u001b[0;34m(self, action)\u001b[0m\n\u001b[1;32m    117\u001b[0m         \"\"\"\n\u001b[1;32m    118\u001b[0m         \u001b[0mself\u001b[0m\u001b[0;34m.\u001b[0m\u001b[0mmonitor\u001b[0m\u001b[0;34m.\u001b[0m\u001b[0m_before_step\u001b[0m\u001b[0;34m(\u001b[0m\u001b[0maction\u001b[0m\u001b[0;34m)\u001b[0m\u001b[0;34m\u001b[0m\u001b[0m\n\u001b[0;32m--> 119\u001b[0;31m         \u001b[0mobservation\u001b[0m\u001b[0;34m,\u001b[0m \u001b[0mreward\u001b[0m\u001b[0;34m,\u001b[0m \u001b[0mdone\u001b[0m\u001b[0;34m,\u001b[0m \u001b[0minfo\u001b[0m \u001b[0;34m=\u001b[0m \u001b[0mself\u001b[0m\u001b[0;34m.\u001b[0m\u001b[0m_step\u001b[0m\u001b[0;34m(\u001b[0m\u001b[0maction\u001b[0m\u001b[0;34m)\u001b[0m\u001b[0;34m\u001b[0m\u001b[0m\n\u001b[0m\u001b[1;32m    120\u001b[0m \u001b[0;34m\u001b[0m\u001b[0m\n\u001b[1;32m    121\u001b[0m         \u001b[0mdone\u001b[0m \u001b[0;34m=\u001b[0m \u001b[0mself\u001b[0m\u001b[0;34m.\u001b[0m\u001b[0mmonitor\u001b[0m\u001b[0;34m.\u001b[0m\u001b[0m_after_step\u001b[0m\u001b[0;34m(\u001b[0m\u001b[0mobservation\u001b[0m\u001b[0;34m,\u001b[0m \u001b[0mreward\u001b[0m\u001b[0;34m,\u001b[0m \u001b[0mdone\u001b[0m\u001b[0;34m,\u001b[0m \u001b[0minfo\u001b[0m\u001b[0;34m)\u001b[0m\u001b[0;34m\u001b[0m\u001b[0m\n",
      "\u001b[0;32m/usr/local/lib/python2.7/dist-packages/gym/envs/atari/atari_env.pyc\u001b[0m in \u001b[0;36m_step\u001b[0;34m(self, a)\u001b[0m\n\u001b[1;32m     67\u001b[0m     \u001b[0;32mdef\u001b[0m \u001b[0m_step\u001b[0m\u001b[0;34m(\u001b[0m\u001b[0mself\u001b[0m\u001b[0;34m,\u001b[0m \u001b[0ma\u001b[0m\u001b[0;34m)\u001b[0m\u001b[0;34m:\u001b[0m\u001b[0;34m\u001b[0m\u001b[0m\n\u001b[1;32m     68\u001b[0m         \u001b[0mreward\u001b[0m \u001b[0;34m=\u001b[0m \u001b[0;36m0.0\u001b[0m\u001b[0;34m\u001b[0m\u001b[0m\n\u001b[0;32m---> 69\u001b[0;31m         \u001b[0maction\u001b[0m \u001b[0;34m=\u001b[0m \u001b[0mself\u001b[0m\u001b[0;34m.\u001b[0m\u001b[0m_action_set\u001b[0m\u001b[0;34m[\u001b[0m\u001b[0ma\u001b[0m\u001b[0;34m]\u001b[0m\u001b[0;34m\u001b[0m\u001b[0m\n\u001b[0m\u001b[1;32m     70\u001b[0m \u001b[0;34m\u001b[0m\u001b[0m\n\u001b[1;32m     71\u001b[0m         \u001b[0;32mif\u001b[0m \u001b[0misinstance\u001b[0m\u001b[0;34m(\u001b[0m\u001b[0mself\u001b[0m\u001b[0;34m.\u001b[0m\u001b[0mframeskip\u001b[0m\u001b[0;34m,\u001b[0m \u001b[0mint\u001b[0m\u001b[0;34m)\u001b[0m\u001b[0;34m:\u001b[0m\u001b[0;34m\u001b[0m\u001b[0m\n",
      "\u001b[0;31mIndexError\u001b[0m: index 24 is out of bounds for axis 0 with size 6"
     ]
    }
   ],
   "source": [
    "dynamics.send(24)"
   ]
  },
  {
   "cell_type": "code",
   "execution_count": null,
   "metadata": {
    "collapsed": true
   },
   "outputs": [],
   "source": []
  },
  {
   "cell_type": "code",
   "execution_count": null,
   "metadata": {
    "collapsed": true
   },
   "outputs": [],
   "source": []
  },
  {
   "cell_type": "code",
   "execution_count": null,
   "metadata": {
    "collapsed": true
   },
   "outputs": [],
   "source": []
  },
  {
   "cell_type": "code",
   "execution_count": null,
   "metadata": {
    "collapsed": true
   },
   "outputs": [],
   "source": []
  },
  {
   "cell_type": "code",
   "execution_count": 37,
   "metadata": {
    "collapsed": true
   },
   "outputs": [],
   "source": [
    "next(cor)"
   ]
  },
  {
   "cell_type": "code",
   "execution_count": 39,
   "metadata": {
    "collapsed": false
   },
   "outputs": [
    {
     "name": "stdout",
     "output_type": "stream",
     "text": [
      "('Received:', 2)\n"
     ]
    }
   ],
   "source": [
    "cor.send(2)"
   ]
  }
 ],
 "metadata": {
  "kernelspec": {
   "display_name": "Python 2",
   "language": "python",
   "name": "python2"
  },
  "language_info": {
   "codemirror_mode": {
    "name": "ipython",
    "version": 2
   },
   "file_extension": ".py",
   "mimetype": "text/x-python",
   "name": "python",
   "nbconvert_exporter": "python",
   "pygments_lexer": "ipython2",
   "version": "2.7.6"
  }
 },
 "nbformat": 4,
 "nbformat_minor": 1
}
